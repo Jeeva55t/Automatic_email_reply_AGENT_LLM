{
  "nbformat": 4,
  "nbformat_minor": 0,
  "metadata": {
    "colab": {
      "provenance": [],
      "authorship_tag": "ABX9TyN9Lf0WtmjbdslWo8aeNBIt",
      "include_colab_link": true
    },
    "kernelspec": {
      "name": "python3",
      "display_name": "Python 3"
    },
    "language_info": {
      "name": "python"
    }
  },
  "cells": [
    {
      "cell_type": "markdown",
      "metadata": {
        "id": "view-in-github",
        "colab_type": "text"
      },
      "source": [
        "<a href=\"https://colab.research.google.com/github/Jeeva55t/Automatic_email_reply_AGENT_LLM/blob/main/Automatic_reply_email_agent.ipynb\" target=\"_parent\"><img src=\"https://colab.research.google.com/assets/colab-badge.svg\" alt=\"Open In Colab\"/></a>"
      ]
    },
    {
      "cell_type": "code",
      "source": [
        "!pip install -q langchain langchain_community google-genai"
      ],
      "metadata": {
        "id": "ua3zqqGfHHlK"
      },
      "execution_count": 62,
      "outputs": []
    },
    {
      "cell_type": "code",
      "execution_count": 63,
      "metadata": {
        "id": "gEsvKkzsF8-M"
      },
      "outputs": [],
      "source": [
        "from langchain.agents import initialize_agent,Tool\n",
        "from langchain.agents import AgentType\n",
        "from langchain.tools import tool\n",
        "import imaplib,smtplib,email\n",
        "from email.mime.text import MIMEText\n",
        "import os"
      ]
    },
    {
      "cell_type": "code",
      "source": [
        "GEMINI_API_KEY = \"UPLOAD_YOUR_KEY\"\n",
        "EMAIL = \"jeevanandk95@gmail.com\"\n",
        "PASSWORD = \"eqip hvkb myrv gtau\""
      ],
      "metadata": {
        "id": "n-4ajPZ_Glnl"
      },
      "execution_count": 64,
      "outputs": []
    },
    {
      "cell_type": "code",
      "source": [
        "@tool\n",
        "def read_gmail(query: str = \"\") -> str:\n",
        "  \"\"\" Reads the latest unread Gmail message.\"\"\"\n",
        "  mail = imaplib.IMAP4_SSL(\"imap.gmail.com\")\n",
        "  mail.login(EMAIL,PASSWORD)\n",
        "  mail.select(\"inbox\")\n",
        "  status , data = mail.search(None,\"UNSEEN\")\n",
        "  ids = data[0].split()\n",
        "  if not ids:\n",
        "    return \"No unread emails found\"\n",
        "\n",
        "  latest_id = ids[-1]\n",
        "  status,msg_data = mail.fetch(latest_id,\"(RFC822)\")\n",
        "  msg = email.message_from_bytes(msg_data[0][1])\n",
        "  subject = msg[\"Subject\"]\n",
        "  sender = msg[\"From\"]\n",
        "  body = \"\"\n",
        "\n",
        "  if msg.is_multipart():\n",
        "    for part in msg.walk():\n",
        "      if part.get_content_type() == \"text/plain\":\n",
        "        body += part.get_payload(decode=True).decode()\n",
        "  else:\n",
        "    body += msg.get_payload(decode=True).decode()\n",
        "\n",
        "  return f\"Subject: {subject}\\nFrom: {sender}\\nBody: {body}\""
      ],
      "metadata": {
        "id": "ZNzYMg8wHgZZ"
      },
      "execution_count": 65,
      "outputs": []
    },
    {
      "cell_type": "code",
      "source": [
        "#Tool - send email\n",
        "@tool\n",
        "def send_gmail_reply(details : str) -> str:\n",
        "  \"\"\"\"Sends a reply to an email. Format: 'to | subject | message '. \"\"\"\n",
        "  try :\n",
        "    to_email,subject,body = details.split(\"|\",2)\n",
        "    msg =  MIMEText(body)\n",
        "    msg[\"Subject\"] = \"Re :\" + subject\n",
        "    msg[\"From\"] = EMAIL\n",
        "    msg[\"To\"] = to_email\n",
        "    server = smtplib.SMTP_SSL(\"smtp.gmail.com\",465)\n",
        "    server.login(EMAIL,PASSWORD)\n",
        "    server.send_message(msg)\n",
        "    server.quit()\n",
        "    return \"Email sent successfully\"\n",
        "  except Exception as e:\n",
        "    return f\"Error sending email: {str(e)}\""
      ],
      "metadata": {
        "id": "q10WuTs4L1f3"
      },
      "execution_count": 66,
      "outputs": []
    },
    {
      "cell_type": "code",
      "source": [
        "# from langchain_google_genai import ChatGoogleGenerativeAI\n",
        "\n",
        "llm = ChatGoogleGenerativeAI(\n",
        "    model = \"gemini-1.5-flash\",\n",
        "    temperature = 0.3,\n",
        "    api_key = GEMINI_API_KEY\n",
        ")"
      ],
      "metadata": {
        "id": "csNdJLx1oyiZ"
      },
      "execution_count": 67,
      "outputs": []
    },
    {
      "cell_type": "code",
      "source": [
        "tools = [read_gmail,send_gmail_reply]"
      ],
      "metadata": {
        "id": "N0FBDf-CSzFN"
      },
      "execution_count": 68,
      "outputs": []
    },
    {
      "cell_type": "code",
      "source": [
        "agent = initialize_agent(\n",
        "    tools = tools,\n",
        "    llm = llm,\n",
        "    agent = AgentType.STRUCTURED_CHAT_ZERO_SHOT_REACT_DESCRIPTION,\n",
        "    verbose = True\n",
        ")"
      ],
      "metadata": {
        "id": "Lmito0U1S5HR"
      },
      "execution_count": 69,
      "outputs": []
    },
    {
      "cell_type": "code",
      "source": [
        "task = \"\"\"Read the latest unread email.If it is a query,write a polite reply and send it back.To send reply ,format must be : to|subject|message\n",
        "\"\"\"\n",
        "agent.run(task)"
      ],
      "metadata": {
        "id": "LcK7Y2uoTBUz",
        "colab": {
          "base_uri": "https://localhost:8080/",
          "height": 698
        },
        "outputId": "2a567d4a-cd8b-46ec-abac-fbc4f160c57b"
      },
      "execution_count": 70,
      "outputs": [
        {
          "output_type": "stream",
          "name": "stdout",
          "text": [
            "\n",
            "\n",
            "\u001b[1m> Entering new AgentExecutor chain...\u001b[0m\n",
            "\u001b[32;1m\u001b[1;3m```json\n",
            "{\n",
            "  \"action\": \"read_gmail\",\n",
            "  \"action_input\": \"\"\n",
            "}\n",
            "```\u001b[0m\n",
            "Observation: \u001b[36;1m\u001b[1;3mSubject: Fwd: Complaint on the Product\n",
            "From: Jeevanand V <jeevanandv63@gmail.com>\n",
            "Body: ---------- Forwarded message ---------\n",
            "From: Jeevanand V <jeevanandv63@gmail.com>\n",
            "Date: Mon, 14 Jul 2025 at 10:22\n",
            "Subject: Complaint on the Product\n",
            "To: <jeevanandk95@gmail.com>\n",
            "\n",
            "\n",
            "I have ordered a headset from your website. The delivered headset is not\n",
            "working properly.Could you kindly replace a new product.\n",
            "\u001b[0m\n",
            "Thought:\u001b[32;1m\u001b[1;3m```json\n",
            "{\n",
            "  \"action\": \"send_gmail_reply\",\n",
            "  \"action_input\": \"jeevanandv63@gmail.com|Re: Complaint on the Product|Dear Jeevanand V,\\n\\nThank you for contacting us regarding the issue with your headset. We sincerely apologize for the inconvenience this has caused.\\n\\nWe would be happy to replace your faulty headset with a new one. To process your replacement, could you please provide us with your order number and a photo of the defective headset?\\n\\nOnce we receive this information, we will ship a replacement to you within 2-3 business days.  You will receive a tracking number once it ships.\\n\\nThank you for your patience and understanding.\\n\\nSincerely,\\nCustomer Support\"\n",
            "}\n",
            "```\u001b[0m\n",
            "Observation: \u001b[33;1m\u001b[1;3mEmail sent successfully\u001b[0m\n",
            "Thought:\u001b[32;1m\u001b[1;3mAction:\n",
            "```json\n",
            "{\n",
            "  \"action\": \"Final Answer\",\n",
            "  \"action_input\": \"Email sent successfully.\"\n",
            "}\n",
            "```\u001b[0m\n",
            "\n",
            "\u001b[1m> Finished chain.\u001b[0m\n"
          ]
        },
        {
          "output_type": "execute_result",
          "data": {
            "text/plain": [
              "'Email sent successfully.'"
            ],
            "application/vnd.google.colaboratory.intrinsic+json": {
              "type": "string"
            }
          },
          "metadata": {},
          "execution_count": 70
        }
      ]
    },
    {
      "cell_type": "code",
      "source": [],
      "metadata": {
        "id": "k4SCrAIaq-8H"
      },
      "execution_count": 70,
      "outputs": []
    }
  ]
}